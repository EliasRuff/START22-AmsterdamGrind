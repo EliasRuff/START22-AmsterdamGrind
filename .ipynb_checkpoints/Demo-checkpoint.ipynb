{
 "cells": [
  {
   "cell_type": "code",
   "execution_count": null,
   "metadata": {},
   "outputs": [
    {
     "ename": "",
     "evalue": "",
     "output_type": "error",
     "traceback": [
      "\u001b[1;31mUnable to start Kernel 'base (Python 3.9.7)' due to connection timeout. \n",
      "View Jupyter <a href='command:jupyter.viewOutput'>log</a> for further details."
     ]
    }
   ],
   "source": [
    "from main import *\n",
    "import datetime\n",
    "\n",
    "testuser = 'D0E1963A7D0C8AC343AE79A39D8F5CBE'\n",
    "\n",
    "userdata = get_user_activity(activities, testuser)\n",
    "\n",
    "similarUsers = getSimilarUsers(testuser) # List of list of GUIDs\n",
    "\n",
    "def isDateFarInPast(toTest, reference):\n",
    "    toTestDate = datetime.datetime(int(toTest[:4]), int(toTest[5:7]), int(toTest[8:10]), tzinfo=datetime.timezone.utc)\n",
    "    referenceDate = datetime.datetime(int(reference[:4]), int(reference[5:7]), int(reference[8:10]), tzinfo=datetime.timezone.utc)\n",
    "    return (toTestDate.timestamp() + 16070400) < referenceDate.timestamp()\n",
    "\n",
    "def hatesSuggestion(data):\n",
    "    if data.empty:\n",
    "        return True\n",
    "    bestGuess = data.iloc[0]\n",
    "    matchingRow = None\n",
    "    for index, row in userdata.iterrows():\n",
    "        if row['category_type'] == bestGuess['category_type'] and row['subcat'] == bestGuess['subcat']:\n",
    "            matchingRow = row\n",
    "            break\n",
    "    if not isinstance(matchingRow, pd.DataFrame):\n",
    "        return False\n",
    "    else:\n",
    "        if isDateFarInPast(bestGuess['activityTime'], matchingRow['activityTime']):\n",
    "            return matchingRow['percentage'].any() < 0.25\n",
    "        else:\n",
    "            return False\n",
    "\n",
    "def coach_activity(coach_catalogue,category,subcategory,n):\n",
    "    possible_suggestions = coach_catalogue[coach_catalogue.category.str.contains(category) & coach_catalogue.subcategory.str.contains(subcategory)]\n",
    "    try:\n",
    "        return possible_suggestions.sample(n)\n",
    "    except:\n",
    "        return None\n",
    "\n",
    "def printSuggestion(guidList, suggesstionComment):\n",
    "    for guid in guidList:\n",
    "        guid = get_user_activity(activities, guid)\n",
    "        if hatesSuggestion(guid):\n",
    "                continue\n",
    "        else:\n",
    "            detailedSuggestions = coach_activity(coach_catalogue, guid.iloc[0]['category_type'], guid.iloc[0]['subcat'],1)\n",
    "            print(suggesstionComment + detailedSuggestions.iloc[0]['name'])\n"
   ]
  },
  {
   "cell_type": "code",
   "execution_count": null,
   "metadata": {},
   "outputs": [],
   "source": [
    "printSuggestion(similarUsers[0], \"You might enjoy: \")\n",
    "printSuggestion(similarUsers[1], \"Others enjoyed: \")\n",
    "printSuggestion(similarUsers[2], \"Have you heard of: \")"
   ]
  },
  {
   "cell_type": "code",
   "execution_count": null,
   "metadata": {},
   "outputs": [],
   "source": [
    "print(\"hi\")"
   ]
  }
 ],
 "metadata": {
  "interpreter": {
   "hash": "468f25ad0239460415b7e6b7483d5c8f7213894121f6fb96c4cb6ef93fffe534"
  },
  "kernelspec": {
   "display_name": "Python 3 (ipykernel)",
   "language": "python",
   "name": "python3"
  },
  "language_info": {
   "name": "python",
   "version": "3.9.7"
  }
 },
 "nbformat": 4,
 "nbformat_minor": 2
}
